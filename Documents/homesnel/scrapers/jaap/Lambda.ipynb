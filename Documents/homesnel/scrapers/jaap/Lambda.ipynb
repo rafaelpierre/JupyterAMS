{
 "cells": [
  {
   "cell_type": "code",
   "execution_count": 34,
   "metadata": {},
   "outputs": [],
   "source": [
    "import json\n",
    "import requests as r\n",
    "import bs4\n",
    "import hashlib\n",
    "import boto3\n",
    "import logging\n",
    "\n",
    "# Create an S3 client\n",
    "s3 = boto3.client('s3')\n",
    "\n",
    "from boto.s3.connection import S3Connection"
   ]
  },
  {
   "cell_type": "code",
   "execution_count": null,
   "metadata": {},
   "outputs": [],
   "source": [
    "conn = S3Connection('your-access-key','your-secret-key')\n",
    "bucket = conn.get_bucket('bucket')"
   ]
  },
  {
   "cell_type": "code",
   "execution_count": 114,
   "metadata": {},
   "outputs": [],
   "source": [
    "url = 'http://partnerapi.funda.nl/feeds/Aanbod.svc/rss/?type=huur&zo=/amsterdam/500-1500/'\n",
    "#rss = r.get(url)\n",
    "\n",
    "#hash_rss = hashlib.md5(rss.text.encode('utf-8')).hexdigest()"
   ]
  },
  {
   "cell_type": "code",
   "execution_count": 115,
   "metadata": {},
   "outputs": [],
   "source": [
    "import lxml.html"
   ]
  },
  {
   "cell_type": "code",
   "execution_count": 116,
   "metadata": {},
   "outputs": [],
   "source": [
    "xml_rss = lxml.html.parse(url)"
   ]
  },
  {
   "cell_type": "code",
   "execution_count": 122,
   "metadata": {},
   "outputs": [
    {
     "name": "stdout",
     "output_type": "stream",
     "text": [
      "None\n",
      "Te huur: Nassaukade 335 III, Amsterdam\n",
      "<img src=\"http://cloud.funda.nl/valentina_media/108/859/735_middel.jpg\" align=\"left\"/><br/><span class=\"price\"></span> <abbr class=\"price-ext\"></abbr>  <span class=\"price\">€ 1.475</span> <abbr class=\"price-ext\">/mnd</abbr> - 58 m2 oppervlak - 2 kamers\n",
      "Thu, 28 Mar 2019 12:30:53 +0100\n",
      "<img src=\"http://cloud.funda.nl/valentina_media/108/859/735_middel.jpg\" align=\"left\"/><br/><span class=\"price\"></span> <abbr class=\"price-ext\"></abbr>  <span class=\"price\">€ 1.475</span> <abbr class=\"price-ext\">/mnd</abbr> - 58 m2 oppervlak - 2 kamers\n",
      "None\n",
      "Te huur: Vespuccistraat 120 -III, Amsterdam\n",
      "<img src=\"http://cloud.funda.nl/valentina_media/108/847/065_middel.jpg\" align=\"left\"/><br/><span class=\"price\"></span> <abbr class=\"price-ext\"></abbr>  <span class=\"price\">€ 1.500</span> <abbr class=\"price-ext\">/mnd</abbr> - 55 m2 oppervlak - 2 kamers\n",
      "Thu, 28 Mar 2019 13:49:19 +0100\n",
      "<img src=\"http://cloud.funda.nl/valentina_media/108/847/065_middel.jpg\" align=\"left\"/><br/><span class=\"price\"></span> <abbr class=\"price-ext\"></abbr>  <span class=\"price\">€ 1.500</span> <abbr class=\"price-ext\">/mnd</abbr> - 55 m2 oppervlak - 2 kamers\n",
      "None\n",
      "Te huur: Zaanstraat 134, Amsterdam\n",
      "<img src=\"http://cloud.funda.nl/valentina_media/108/838/843_middel.jpg\" align=\"left\"/><br/><span class=\"price\"></span> <abbr class=\"price-ext\"></abbr>  <span class=\"price\">€ 1.450</span> <abbr class=\"price-ext\">/mnd</abbr> - 64 m2 oppervlak - 3 kamers\n",
      "Thu, 28 Mar 2019 12:54:20 +0100\n",
      "<img src=\"http://cloud.funda.nl/valentina_media/108/838/843_middel.jpg\" align=\"left\"/><br/><span class=\"price\"></span> <abbr class=\"price-ext\"></abbr>  <span class=\"price\">€ 1.450</span> <abbr class=\"price-ext\">/mnd</abbr> - 64 m2 oppervlak - 3 kamers\n",
      "None\n",
      "Te huur: Lampongstraat 18 I, Amsterdam\n",
      "<img src=\"http://cloud.funda.nl/valentina_media/108/797/421_middel.jpg\" align=\"left\"/><br/><span class=\"price\"></span> <abbr class=\"price-ext\"></abbr>  <span class=\"price\">€ 1.500</span> <abbr class=\"price-ext\">/mnd</abbr> - 55 m2 oppervlak - 3 kamers\n",
      "Thu, 28 Mar 2019 00:00:01 +0100\n",
      "<img src=\"http://cloud.funda.nl/valentina_media/108/797/421_middel.jpg\" align=\"left\"/><br/><span class=\"price\"></span> <abbr class=\"price-ext\"></abbr>  <span class=\"price\">€ 1.500</span> <abbr class=\"price-ext\">/mnd</abbr> - 55 m2 oppervlak - 3 kamers\n",
      "None\n",
      "Te huur: Gerard Doustraat 96 2, Amsterdam\n",
      "<img src=\"http://cloud.funda.nl/valentina_media/108/886/525_middel.jpg\" align=\"left\"/><br/><span class=\"price\"></span> <abbr class=\"price-ext\"></abbr>  <span class=\"price\">â¬Â 1.200</span> <abbr class=\"price-ext\">/mnd</abbr> - 35 m2 oppervlak - 2 kamers\n",
      "Thu, 28 Mar 2019 19:50:00 +0100\n",
      "<img src=\"http://cloud.funda.nl/valentina_media/108/886/525_middel.jpg\" align=\"left\"/><br/><span class=\"price\"></span> <abbr class=\"price-ext\"></abbr>  <span class=\"price\">â¬Â 1.200</span> <abbr class=\"price-ext\">/mnd</abbr> - 35 m2 oppervlak - 2 kamers\n",
      "None\n",
      "Te huur: Pieter Baststraat 5 -II, Amsterdam\n",
      "<img src=\"http://cloud.funda.nl/valentina_media/108/722/333_middel.jpg\" align=\"left\"/><br/><span class=\"price\"></span> <abbr class=\"price-ext\"></abbr>  <span class=\"price\">â¬Â 1.250</span> <abbr class=\"price-ext\">/mnd</abbr> - 42 m2 oppervlak - 2 kamers\n",
      "Wed, 27 Mar 2019 00:00:01 +0100\n",
      "<img src=\"http://cloud.funda.nl/valentina_media/108/722/333_middel.jpg\" align=\"left\"/><br/><span class=\"price\"></span> <abbr class=\"price-ext\"></abbr>  <span class=\"price\">â¬Â 1.250</span> <abbr class=\"price-ext\">/mnd</abbr> - 42 m2 oppervlak - 2 kamers\n",
      "None\n",
      "Te huur: Mary van der Sluisstraat 454, Amsterdam\n",
      "<img src=\"http://cloud.funda.nl/valentina_media/108/806/341_middel.jpg\" align=\"left\"/><br/><span class=\"price\"></span> <abbr class=\"price-ext\"></abbr>  <span class=\"price\">â¬Â 1.499</span> <abbr class=\"price-ext\">/mnd</abbr> - 58 m2 oppervlak - 2 kamers\n",
      "Wed, 27 Mar 2019 18:30:00 +0100\n",
      "<img src=\"http://cloud.funda.nl/valentina_media/108/806/341_middel.jpg\" align=\"left\"/><br/><span class=\"price\"></span> <abbr class=\"price-ext\"></abbr>  <span class=\"price\">â¬Â 1.499</span> <abbr class=\"price-ext\">/mnd</abbr> - 58 m2 oppervlak - 2 kamers\n",
      "None\n",
      "Te huur: Westerdok 198, Amsterdam\n",
      "<img src=\"http://cloud.funda.nl/valentina_media/108/811/906_middel.jpg\" align=\"left\"/><br/><span class=\"price\"></span> <abbr class=\"price-ext\"></abbr>  <span class=\"price\">â¬Â 1.457</span> <abbr class=\"price-ext\">/mnd</abbr> - 91 m2 oppervlak - 3 kamers\n",
      "Wed, 27 Mar 2019 19:15:00 +0100\n",
      "<img src=\"http://cloud.funda.nl/valentina_media/108/811/906_middel.jpg\" align=\"left\"/><br/><span class=\"price\"></span> <abbr class=\"price-ext\"></abbr>  <span class=\"price\">â¬Â 1.457</span> <abbr class=\"price-ext\">/mnd</abbr> - 91 m2 oppervlak - 3 kamers\n",
      "None\n",
      "Te huur: Lucellestraat 8 1, Amsterdam\n",
      "<img src=\"http://cloud.funda.nl/valentina_media/108/819/534_middel.jpg\" align=\"left\"/><br/><span class=\"price\"></span> <abbr class=\"price-ext\"></abbr>  <span class=\"price\">â¬Â 1.375</span> <abbr class=\"price-ext\">/mnd</abbr> - 59 m2 oppervlak - 2 kamers\n",
      "Wed, 27 Mar 2019 19:50:00 +0100\n",
      "<img src=\"http://cloud.funda.nl/valentina_media/108/819/534_middel.jpg\" align=\"left\"/><br/><span class=\"price\"></span> <abbr class=\"price-ext\"></abbr>  <span class=\"price\">â¬Â 1.375</span> <abbr class=\"price-ext\">/mnd</abbr> - 59 m2 oppervlak - 2 kamers\n",
      "None\n",
      "Te huur: Bezaanjachtplein 97, Amsterdam\n",
      "<img src=\"http://cloud.funda.nl/valentina_media/108/663/670_middel.jpg\" align=\"left\"/><br/><span class=\"price\"></span> <abbr class=\"price-ext\"></abbr>  <span class=\"price\">â¬Â 1.250</span> <abbr class=\"price-ext\">/mnd</abbr> - 33 m2 oppervlak - 1 kamers\n",
      "Tue, 26 Mar 2019 00:00:01 +0100\n",
      "<img src=\"http://cloud.funda.nl/valentina_media/108/663/670_middel.jpg\" align=\"left\"/><br/><span class=\"price\"></span> <abbr class=\"price-ext\"></abbr>  <span class=\"price\">â¬Â 1.250</span> <abbr class=\"price-ext\">/mnd</abbr> - 33 m2 oppervlak - 1 kamers\n",
      "None\n",
      "Te huur: Nieuwe Leliestraat 153 1, Amsterdam\n",
      "<img src=\"http://cloud.funda.nl/valentina_media/108/731/253_middel.jpg\" align=\"left\"/><br/><span class=\"price\"></span> <abbr class=\"price-ext\"></abbr>  <span class=\"price\">â¬Â 1.500</span> <abbr class=\"price-ext\">/mnd</abbr> - 40 m2 oppervlak - 2 kamers\n",
      "Tue, 26 Mar 2019 17:40:00 +0100\n",
      "<img src=\"http://cloud.funda.nl/valentina_media/108/731/253_middel.jpg\" align=\"left\"/><br/><span class=\"price\"></span> <abbr class=\"price-ext\"></abbr>  <span class=\"price\">â¬Â 1.500</span> <abbr class=\"price-ext\">/mnd</abbr> - 40 m2 oppervlak - 2 kamers\n",
      "None\n",
      "Te huur: Muntplein 2 b, Amsterdam\n",
      "<img src=\"http://cloud.funda.nl/valentina_media/108/726/026_middel.jpg\" align=\"left\"/><br/><span class=\"price\"></span> <abbr class=\"price-ext\"></abbr>  <span class=\"price\">â¬Â 1.500</span> <abbr class=\"price-ext\">/mnd</abbr> - 70 m2 oppervlak - 2 kamers\n",
      "Tue, 26 Mar 2019 17:05:00 +0100\n",
      "<img src=\"http://cloud.funda.nl/valentina_media/108/726/026_middel.jpg\" align=\"left\"/><br/><span class=\"price\"></span> <abbr class=\"price-ext\"></abbr>  <span class=\"price\">â¬Â 1.500</span> <abbr class=\"price-ext\">/mnd</abbr> - 70 m2 oppervlak - 2 kamers\n",
      "None\n",
      "Te huur: Populierenweg 87 - C, Amsterdam\n",
      "<img src=\"http://cloud.funda.nl/valentina_media/108/630/406_middel.jpg\" align=\"left\"/><br/><span class=\"price\"></span> <abbr class=\"price-ext\"></abbr>  <span class=\"price\">â¬Â 1.500</span> <abbr class=\"price-ext\">/mnd</abbr> - 67 m2 oppervlak - 2 kamers\n",
      "Tue, 26 Mar 2019 00:00:01 +0100\n",
      "<img src=\"http://cloud.funda.nl/valentina_media/108/630/406_middel.jpg\" align=\"left\"/><br/><span class=\"price\"></span> <abbr class=\"price-ext\"></abbr>  <span class=\"price\">â¬Â 1.500</span> <abbr class=\"price-ext\">/mnd</abbr> - 67 m2 oppervlak - 2 kamers\n",
      "None\n",
      "Te huur: Westerstraat 91 1, Amsterdam\n",
      "<img src=\"http://cloud.funda.nl/valentina_media/108/693/537_middel.jpg\" align=\"left\"/><br/><span class=\"price\"></span> <abbr class=\"price-ext\"></abbr>  <span class=\"price\">â¬Â 1.500</span> <abbr class=\"price-ext\">/mnd</abbr> - 48 m2 oppervlak - 2 kamers\n",
      "Tue, 26 Mar 2019 11:45:00 +0100\n",
      "<img src=\"http://cloud.funda.nl/valentina_media/108/693/537_middel.jpg\" align=\"left\"/><br/><span class=\"price\"></span> <abbr class=\"price-ext\"></abbr>  <span class=\"price\">â¬Â 1.500</span> <abbr class=\"price-ext\">/mnd</abbr> - 48 m2 oppervlak - 2 kamers\n",
      "None\n",
      "Te huur: Blankenstraat 149 - I, Amsterdam\n",
      "<img src=\"http://cloud.funda.nl/valentina_media/108/645/143_middel.jpg\" align=\"left\"/><br/><span class=\"price\"></span> <abbr class=\"price-ext\"></abbr>  <span class=\"price\">â¬Â 1.100</span> <abbr class=\"price-ext\">/mnd</abbr> - 36 m2 oppervlak - 2 kamers\n",
      "Tue, 26 Mar 2019 00:00:01 +0100\n",
      "<img src=\"http://cloud.funda.nl/valentina_media/108/645/143_middel.jpg\" align=\"left\"/><br/><span class=\"price\"></span> <abbr class=\"price-ext\"></abbr>  <span class=\"price\">â¬Â 1.100</span> <abbr class=\"price-ext\">/mnd</abbr> - 36 m2 oppervlak - 2 kamers\n"
     ]
    }
   ],
   "source": [
    "for item in xml_rss.findall('.//item/'):\n",
    "    print(item.text)"
   ]
  },
  {
   "cell_type": "code",
   "execution_count": 52,
   "metadata": {},
   "outputs": [
    {
     "data": {
      "text/plain": [
       "[]"
      ]
     },
     "execution_count": 52,
     "metadata": {},
     "output_type": "execute_result"
    }
   ],
   "source": [
    "xml_rss.findall('item')"
   ]
  },
  {
   "cell_type": "code",
   "execution_count": 28,
   "metadata": {},
   "outputs": [
    {
     "name": "stdout",
     "output_type": "stream",
     "text": [
      "86d46f23cbbb2c7391525b24de8fd36d\n"
     ]
    }
   ],
   "source": [
    "#Check if there's been changes\n",
    "\n",
    "new_feed = False\n",
    "\n",
    "for key in bucket.list():\n",
    "    try:\n",
    "        res = key.get_contents_to_filename(key.name) #path to hashes\n",
    "        if (res != hash_rss):\n",
    "            logging.info('New content in the feed!')\n",
    "            new_feed = True\n",
    "    except:\n",
    "        logging.info(key.name+\":\"+\"FAILED\")"
   ]
  },
  {
   "cell_type": "code",
   "execution_count": null,
   "metadata": {},
   "outputs": [],
   "source": [
    "#If there are changes, let's store the feed "
   ]
  },
  {
   "cell_type": "code",
   "execution_count": null,
   "metadata": {},
   "outputs": [],
   "source": []
  },
  {
   "cell_type": "code",
   "execution_count": 40,
   "metadata": {},
   "outputs": [],
   "source": [
    "doc = bs4.BeautifulSoup(rss.text, features='xml')\n",
    "\n",
    "items = doc.findAll('item')"
   ]
  },
  {
   "cell_type": "code",
   "execution_count": null,
   "metadata": {},
   "outputs": [],
   "source": []
  },
  {
   "cell_type": "code",
   "execution_count": 18,
   "metadata": {},
   "outputs": [
    {
     "data": {
      "text/plain": [
       "time.struct_time(tm_year=2019, tm_mon=3, tm_mday=28, tm_hour=11, tm_min=30, tm_sec=53, tm_wday=3, tm_yday=87, tm_isdst=0)"
      ]
     },
     "execution_count": 18,
     "metadata": {},
     "output_type": "execute_result"
    }
   ],
   "source": [
    "entry[0]['published_parsed']"
   ]
  },
  {
   "cell_type": "code",
   "execution_count": null,
   "metadata": {},
   "outputs": [],
   "source": [
    "import boto3\n",
    "\n",
    "\n",
    "\n",
    "filename = 'file.txt'\n",
    "bucket_name = 'my-bucket'\n",
    "\n",
    "# Uploads the given file using a managed uploader, which will split up large\n",
    "# files automatically and upload parts in parallel.\n",
    "s3.upload_file(filename, bucket_name, filename)"
   ]
  }
 ],
 "metadata": {
  "kernelspec": {
   "display_name": "Python 3",
   "language": "python",
   "name": "python3"
  },
  "language_info": {
   "codemirror_mode": {
    "name": "ipython",
    "version": 3
   },
   "file_extension": ".py",
   "mimetype": "text/x-python",
   "name": "python",
   "nbconvert_exporter": "python",
   "pygments_lexer": "ipython3",
   "version": "3.6.8"
  }
 },
 "nbformat": 4,
 "nbformat_minor": 2
}
